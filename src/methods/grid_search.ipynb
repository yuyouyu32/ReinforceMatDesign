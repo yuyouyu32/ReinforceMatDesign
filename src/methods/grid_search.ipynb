{
 "cells": [
  {
   "cell_type": "code",
   "execution_count": 8,
   "metadata": {},
   "outputs": [],
   "source": [
    "# [X] Zr: 40-70 Cu : 10 -25 Ni: 5-15 Al: 5-15\n",
    "# [X] Ag:0-10 Ti: 0-10 La: 0-10 Ce: 0-10 Gd: 0-10 Y:0-10\n",
    "import pandas as pd\n",
    "data_path = '/data/home/yeyongyu/SHU/ReinforceMatDesign/data/ALL_data_grouped_processed.xlsx' \n",
    "drop_columns = ['BMGs', \"Chemical composition\", 'cls_label']\n",
    "target_columns = ['Tg(K)', 'Tx(K)', 'Tl(K)', 'Dmax(mm)', 'yield(MPa)', 'Modulus (GPa)', 'Ε(%)']\n",
    "columns = pd.read_excel(data_path).drop(drop_columns, axis=1).drop(target_columns, axis=1).columns"
   ]
  },
  {
   "cell_type": "code",
   "execution_count": 9,
   "metadata": {},
   "outputs": [
    {
     "name": "stdout",
     "output_type": "stream",
     "text": [
      "      Ni  Cr   Nb  P  B  Si  Fe  C  Mo     Y  ...  Tb  Li  Sm  Lu Yb Pb Sr Ru  \\\n",
      "0  17.44   0  0.0  0  0   0   0  0   0  2.85  ...   0   0   0   0  0  0  0  0   \n",
      "1  11.83   0  0.0  0  0   0   0  0   0   0.0  ...   0   0   0   0  0  0  0  0   \n",
      "2  13.16   0  0.0  0  0   0   0  0   0   0.0  ...   0   0   0   0  0  0  0  0   \n",
      "3  10.22   0  0.0  0  0   0   0  0   0   0.0  ...   0   0   0   0  0  0  0  0   \n",
      "4  18.15   0  0.0  0  0   0   0  0   0   0.0  ...   0   0   0   0  0  0  0  0   \n",
      "\n",
      "   Be Rh  \n",
      "0   0  0  \n",
      "1   0  0  \n",
      "2   0  0  \n",
      "3   0  0  \n",
      "4   0  0  \n",
      "\n",
      "[5 rows x 51 columns]\n"
     ]
    }
   ],
   "source": [
    "import pandas as pd\n",
    "import numpy as np\n",
    "\n",
    "def normalize_components(components):\n",
    "    total = np.sum(components)\n",
    "    normalized = 100 * components / total\n",
    "    return np.round(normalized, 2)\n",
    "\n",
    "def generate_alloy_data(num_samples, column_names):\n",
    "    # Initialize DataFrame with placeholders for all columns\n",
    "    df = pd.DataFrame(index=range(num_samples), columns=column_names)\n",
    "    \n",
    "    # Define mandatory and optional elements\n",
    "    mandatory_elements = ['Zr', 'Cu', 'Ni', 'Al']\n",
    "    optional_elements = ['Ag', 'Ti', 'La', 'Ce', 'Y', 'Nb', 'Sc']\n",
    "    element_columns = mandatory_elements + optional_elements\n",
    "    \n",
    "    # 随机生成必须元素的数据\n",
    "    for i in range(num_samples):\n",
    "        while True:\n",
    "            Zr = np.random.uniform(30, 50)\n",
    "            Cu = np.random.uniform(10, 20)\n",
    "            Ni = np.random.uniform(10, 20)\n",
    "            Al = np.random.uniform(20, 30)\n",
    "\n",
    "            # 随机选择一个附加元素\n",
    "            extras = np.zeros(len(optional_elements))\n",
    "            selected_index = np.random.choice(range(len(optional_elements)))\n",
    "            extras[selected_index] = np.random.uniform(1, 10)\n",
    "\n",
    "            components = np.array([Zr, Cu, Ni, Al] + list(extras))\n",
    "            normalized_components = normalize_components(components)\n",
    "\n",
    "            # Check if sum is close enough to 100 due to rounding\n",
    "            if np.abs(normalized_components.sum() - 100) == 0:\n",
    "                df.loc[i, element_columns] = normalized_components\n",
    "                break\n",
    "\n",
    "    # Fill in other non-element columns if necessary\n",
    "    for col in set(column_names) - set(element_columns):\n",
    "        df[col] = 0  \n",
    "\n",
    "    return df\n",
    "\n",
    "# Generate the data\n",
    "df_alloys = generate_alloy_data(50000, columns)\n",
    "df_alloys = df_alloys.drop_duplicates()\n",
    "print(df_alloys.head())"
   ]
  },
  {
   "cell_type": "code",
   "execution_count": 10,
   "metadata": {},
   "outputs": [
    {
     "name": "stdout",
     "output_type": "stream",
     "text": [
      "True\n"
     ]
    }
   ],
   "source": [
    "# 检查每一行的和是否全部等于100\n",
    "print(np.allclose(df_alloys[columns].sum(axis=1), 100))\n",
    "# save data\n",
    "df_alloys.to_excel('random_search.xlsx', index=False)"
   ]
  }
 ],
 "metadata": {
  "kernelspec": {
   "display_name": "Python 3",
   "language": "python",
   "name": "python3"
  },
  "language_info": {
   "codemirror_mode": {
    "name": "ipython",
    "version": 3
   },
   "file_extension": ".py",
   "mimetype": "text/x-python",
   "name": "python",
   "nbconvert_exporter": "python",
   "pygments_lexer": "ipython3",
   "version": "3.8.17"
  }
 },
 "nbformat": 4,
 "nbformat_minor": 2
}
