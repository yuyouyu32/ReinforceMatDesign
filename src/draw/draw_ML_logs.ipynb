{
 "cells": [
  {
   "cell_type": "code",
   "execution_count": 2,
   "metadata": {},
   "outputs": [],
   "source": [
    "# 把ipynb的运行根目录放在../src下\n",
    "import os\n",
    "import sys\n",
    "import pandas as pd\n",
    "import numpy as np\n",
    "import json\n",
    "sys.path.append(os.path.abspath('..'))\n",
    "from config import *\n",
    "import matplotlib.pyplot as plt\n",
    "import matplotlib.colors as mcolors\n",
    "import scienceplots\n",
    "\n",
    "from sklearn.metrics import r2_score, mean_squared_error, mean_absolute_error\n"
   ]
  },
  {
   "cell_type": "code",
   "execution_count": 2,
   "metadata": {},
   "outputs": [],
   "source": [
    "def draw_r2_mape(y_test, y_pred, target_name, mape, ave_r2):\n",
    "    with plt.style.context(['science', 'scatter']):\n",
    "        # Create a scatter plot with a color map based on MAPE values\n",
    "        colors = mcolors.Normalize(vmin=np.min(mape), vmax=min(np.max(mape), 100))\n",
    "        plt.scatter(y_test, y_pred, c=mape, cmap='viridis', alpha=0.7, norm=colors, label=f\"${target_name} Pred$\")\n",
    "\n",
    "        # Add a color bar to indicate the range of MAPE values\n",
    "        plt.colorbar(label='MAPE(\\%)')\n",
    "        # Plot the 45-degree line\n",
    "        min_value = min(y_test.min(), y_pred.min()) - y_test.min()/10\n",
    "        max_value = max(y_test.max(), y_pred.max()) + y_test.min()/10\n",
    "        plt.fill_between([min_value, max_value], [min_value - y_test.min()/10, max_value - y_test.min()/10], [min_value + y_test.min()/10, max_value + y_test.min()/10], color='dodgerblue', alpha=0.2, lw=0)\n",
    "        plt.plot([min_value, max_value], \n",
    "                [min_value, max_value], \n",
    "                'k--')\n",
    "\n",
    "        # Labels and title\n",
    "        # plt.legend()\n",
    "        plt.xlabel(f'{target_name} True Values', fontdict={'color': 'black', 'font': 'Times New Roman'})\n",
    "        plt.ylabel(f'{target_name} Predicted Values', fontdict={'color': 'black', 'font': 'Times New Roman'})\n",
    "        textstr = f'$R^2 = {ave_r2:.2f}$'\n",
    "        plt.text(0.6, 0.15, textstr, transform=plt.gca().transAxes, fontsize=9, verticalalignment='top', fontdict={'color': 'black', 'font': 'Times New Roman'})\n",
    "        plt.savefig(f'./{target_name}_scatter_verification.pdf', dpi=1000, bbox_inches='tight')\n",
    "        plt.close()"
   ]
  },
  {
   "cell_type": "code",
   "execution_count": 4,
   "metadata": {},
   "outputs": [
    {
     "name": "stdout",
     "output_type": "stream",
     "text": [
      "Processing Modulus (GPa)\n",
      "Modulus (GPa) R2: 0.93, MAPE: 8.71, MSE: 198.66\n",
      "Processing Tx(K)\n",
      "Tx(K) R2: 0.99, MAPE: 1.77, MSE: 454.02\n",
      "Processing Tl(K)\n",
      "Tl(K) R2: 0.99, MAPE: 1.44, MSE: 536.60\n",
      "Processing Ε(%)\n",
      "Ε(%) R2: 0.85, MAPE: 131.13, MSE: 24.07\n",
      "Processing Tg(K)\n",
      "Tg(K) R2: 0.97, MAPE: 2.57, MSE: 940.52\n",
      "Processing Dmax(mm)\n",
      "Dmax(mm) R2: 0.80, MAPE: 61.76, MSE: 5.92\n",
      "Processing yield(MPa)\n",
      "yield(MPa) R2: 0.84, MAPE: 8.42, MSE: 40487.85\n"
     ]
    }
   ],
   "source": [
    "y_pred_results_path = '../../results/pred_results'\n",
    "all_results_file = os.listdir(y_pred_results_path)\n",
    "for file in all_results_file:\n",
    "    target_name = file.split('.')[0]\n",
    "    print(f\"Processing {target_name}\")\n",
    "    data = pd.read_excel(os.path.join(y_pred_results_path, file))\n",
    "    y_pred = np.array(data[f\"y_pred\"])\n",
    "    y_test = np.array(data[f\"y_test\"])\n",
    "    ave_r2 = r2_score(y_test, y_pred)\n",
    "    y_test = np.where(y_test == 0, 1, y_test)\n",
    "    mape = np.abs((y_test - np.abs(y_pred)) / (y_test)) * 100\n",
    "    ave_mape = np.mean(mape)\n",
    "    ave_mse = mean_squared_error(y_test, y_pred)\n",
    "    print(f\"{target_name} R2: {ave_r2:.2f}, MAPE: {ave_mape:.2f}, MSE: {ave_mse:.2f}\")\n",
    "    if target_name == 'Ε(%)':\n",
    "        target_name = 'E(\\%)'\n",
    "    draw_r2_mape(y_test, y_pred, target_name, mape, ave_r2)\n"
   ]
  },
  {
   "cell_type": "code",
   "execution_count": 3,
   "metadata": {},
   "outputs": [
    {
     "ename": "OSError",
     "evalue": "'science' is not a valid package style, path of style file, URL of style file, or library style name (library styles are listed in `style.available`)",
     "output_type": "error",
     "traceback": [
      "\u001b[0;31m---------------------------------------------------------------------------\u001b[0m",
      "\u001b[0;31mFileNotFoundError\u001b[0m                         Traceback (most recent call last)",
      "File \u001b[0;32m/usr/local/lib64/python3.8/site-packages/matplotlib/style/core.py:166\u001b[0m, in \u001b[0;36muse\u001b[0;34m(style)\u001b[0m\n\u001b[1;32m    165\u001b[0m \u001b[38;5;28;01mtry\u001b[39;00m:\n\u001b[0;32m--> 166\u001b[0m     style \u001b[38;5;241m=\u001b[39m \u001b[43m_rc_params_in_file\u001b[49m\u001b[43m(\u001b[49m\u001b[43mstyle\u001b[49m\u001b[43m)\u001b[49m\n\u001b[1;32m    167\u001b[0m \u001b[38;5;28;01mexcept\u001b[39;00m \u001b[38;5;167;01mIOError\u001b[39;00m \u001b[38;5;28;01mas\u001b[39;00m err:\n",
      "File \u001b[0;32m/usr/local/lib64/python3.8/site-packages/matplotlib/__init__.py:854\u001b[0m, in \u001b[0;36m_rc_params_in_file\u001b[0;34m(fname, transform, fail_on_error)\u001b[0m\n\u001b[1;32m    853\u001b[0m rc_temp \u001b[38;5;241m=\u001b[39m {}\n\u001b[0;32m--> 854\u001b[0m \u001b[38;5;28;01mwith\u001b[39;00m _open_file_or_url(fname) \u001b[38;5;28;01mas\u001b[39;00m fd:\n\u001b[1;32m    855\u001b[0m     \u001b[38;5;28;01mtry\u001b[39;00m:\n",
      "File \u001b[0;32m/usr/lib64/python3.8/contextlib.py:113\u001b[0m, in \u001b[0;36m_GeneratorContextManager.__enter__\u001b[0;34m(self)\u001b[0m\n\u001b[1;32m    112\u001b[0m \u001b[38;5;28;01mtry\u001b[39;00m:\n\u001b[0;32m--> 113\u001b[0m     \u001b[38;5;28;01mreturn\u001b[39;00m \u001b[38;5;28;43mnext\u001b[39;49m\u001b[43m(\u001b[49m\u001b[38;5;28;43mself\u001b[39;49m\u001b[38;5;241;43m.\u001b[39;49m\u001b[43mgen\u001b[49m\u001b[43m)\u001b[49m\n\u001b[1;32m    114\u001b[0m \u001b[38;5;28;01mexcept\u001b[39;00m \u001b[38;5;167;01mStopIteration\u001b[39;00m:\n",
      "File \u001b[0;32m/usr/local/lib64/python3.8/site-packages/matplotlib/__init__.py:831\u001b[0m, in \u001b[0;36m_open_file_or_url\u001b[0;34m(fname)\u001b[0m\n\u001b[1;32m    830\u001b[0m fname \u001b[38;5;241m=\u001b[39m os\u001b[38;5;241m.\u001b[39mpath\u001b[38;5;241m.\u001b[39mexpanduser(fname)\n\u001b[0;32m--> 831\u001b[0m \u001b[38;5;28;01mwith\u001b[39;00m \u001b[38;5;28;43mopen\u001b[39;49m\u001b[43m(\u001b[49m\u001b[43mfname\u001b[49m\u001b[43m,\u001b[49m\u001b[43m \u001b[49m\u001b[43mencoding\u001b[49m\u001b[38;5;241;43m=\u001b[39;49m\u001b[38;5;124;43m'\u001b[39;49m\u001b[38;5;124;43mutf-8\u001b[39;49m\u001b[38;5;124;43m'\u001b[39;49m\u001b[43m)\u001b[49m \u001b[38;5;28;01mas\u001b[39;00m f:\n\u001b[1;32m    832\u001b[0m     \u001b[38;5;28;01myield\u001b[39;00m f\n",
      "\u001b[0;31mFileNotFoundError\u001b[0m: [Errno 2] No such file or directory: 'science'",
      "\nThe above exception was the direct cause of the following exception:\n",
      "\u001b[0;31mOSError\u001b[0m                                   Traceback (most recent call last)",
      "Cell \u001b[0;32mIn[3], line 20\u001b[0m\n\u001b[1;32m     17\u001b[0m models \u001b[38;5;241m=\u001b[39m cls_prob_df\u001b[38;5;241m.\u001b[39mcolumns\u001b[38;5;241m.\u001b[39mto_list()\n\u001b[1;32m     19\u001b[0m \u001b[38;5;66;03m# 绘制多个模型的ROC曲线\u001b[39;00m\n\u001b[0;32m---> 20\u001b[0m \u001b[38;5;28;01mwith\u001b[39;00m plt\u001b[38;5;241m.\u001b[39mstyle\u001b[38;5;241m.\u001b[39mcontext([\u001b[38;5;124m'\u001b[39m\u001b[38;5;124mscience\u001b[39m\u001b[38;5;124m'\u001b[39m, \u001b[38;5;124m'\u001b[39m\u001b[38;5;124mscatter\u001b[39m\u001b[38;5;124m'\u001b[39m]):\n\u001b[1;32m     21\u001b[0m     plt\u001b[38;5;241m.\u001b[39mfigure(figsize\u001b[38;5;241m=\u001b[39m(\u001b[38;5;241m8\u001b[39m, \u001b[38;5;241m8\u001b[39m))  \u001b[38;5;66;03m# 增加图像尺寸\u001b[39;00m\n\u001b[1;32m     23\u001b[0m     \u001b[38;5;28;01mfor\u001b[39;00m model \u001b[38;5;129;01min\u001b[39;00m models:\n",
      "File \u001b[0;32m/usr/lib64/python3.8/contextlib.py:113\u001b[0m, in \u001b[0;36m_GeneratorContextManager.__enter__\u001b[0;34m(self)\u001b[0m\n\u001b[1;32m    111\u001b[0m \u001b[38;5;28;01mdel\u001b[39;00m \u001b[38;5;28mself\u001b[39m\u001b[38;5;241m.\u001b[39margs, \u001b[38;5;28mself\u001b[39m\u001b[38;5;241m.\u001b[39mkwds, \u001b[38;5;28mself\u001b[39m\u001b[38;5;241m.\u001b[39mfunc\n\u001b[1;32m    112\u001b[0m \u001b[38;5;28;01mtry\u001b[39;00m:\n\u001b[0;32m--> 113\u001b[0m     \u001b[38;5;28;01mreturn\u001b[39;00m \u001b[38;5;28;43mnext\u001b[39;49m\u001b[43m(\u001b[49m\u001b[38;5;28;43mself\u001b[39;49m\u001b[38;5;241;43m.\u001b[39;49m\u001b[43mgen\u001b[49m\u001b[43m)\u001b[49m\n\u001b[1;32m    114\u001b[0m \u001b[38;5;28;01mexcept\u001b[39;00m \u001b[38;5;167;01mStopIteration\u001b[39;00m:\n\u001b[1;32m    115\u001b[0m     \u001b[38;5;28;01mraise\u001b[39;00m \u001b[38;5;167;01mRuntimeError\u001b[39;00m(\u001b[38;5;124m\"\u001b[39m\u001b[38;5;124mgenerator didn\u001b[39m\u001b[38;5;124m'\u001b[39m\u001b[38;5;124mt yield\u001b[39m\u001b[38;5;124m\"\u001b[39m) \u001b[38;5;28;01mfrom\u001b[39;00m \u001b[38;5;28;01mNone\u001b[39;00m\n",
      "File \u001b[0;32m/usr/local/lib64/python3.8/site-packages/matplotlib/style/core.py:223\u001b[0m, in \u001b[0;36mcontext\u001b[0;34m(style, after_reset)\u001b[0m\n\u001b[1;32m    221\u001b[0m \u001b[38;5;28;01mif\u001b[39;00m after_reset:\n\u001b[1;32m    222\u001b[0m     mpl\u001b[38;5;241m.\u001b[39mrcdefaults()\n\u001b[0;32m--> 223\u001b[0m \u001b[43muse\u001b[49m\u001b[43m(\u001b[49m\u001b[43mstyle\u001b[49m\u001b[43m)\u001b[49m\n\u001b[1;32m    224\u001b[0m \u001b[38;5;28;01myield\u001b[39;00m\n",
      "File \u001b[0;32m/usr/local/lib64/python3.8/site-packages/matplotlib/style/core.py:168\u001b[0m, in \u001b[0;36muse\u001b[0;34m(style)\u001b[0m\n\u001b[1;32m    166\u001b[0m         style \u001b[38;5;241m=\u001b[39m _rc_params_in_file(style)\n\u001b[1;32m    167\u001b[0m     \u001b[38;5;28;01mexcept\u001b[39;00m \u001b[38;5;167;01mIOError\u001b[39;00m \u001b[38;5;28;01mas\u001b[39;00m err:\n\u001b[0;32m--> 168\u001b[0m         \u001b[38;5;28;01mraise\u001b[39;00m \u001b[38;5;167;01mIOError\u001b[39;00m(\n\u001b[1;32m    169\u001b[0m             \u001b[38;5;124mf\u001b[39m\u001b[38;5;124m\"\u001b[39m\u001b[38;5;132;01m{\u001b[39;00mstyle\u001b[38;5;132;01m!r}\u001b[39;00m\u001b[38;5;124m is not a valid package style, path of style \u001b[39m\u001b[38;5;124m\"\u001b[39m\n\u001b[1;32m    170\u001b[0m             \u001b[38;5;124mf\u001b[39m\u001b[38;5;124m\"\u001b[39m\u001b[38;5;124mfile, URL of style file, or library style name (library \u001b[39m\u001b[38;5;124m\"\u001b[39m\n\u001b[1;32m    171\u001b[0m             \u001b[38;5;124mf\u001b[39m\u001b[38;5;124m\"\u001b[39m\u001b[38;5;124mstyles are listed in `style.available`)\u001b[39m\u001b[38;5;124m\"\u001b[39m) \u001b[38;5;28;01mfrom\u001b[39;00m \u001b[38;5;21;01merr\u001b[39;00m\n\u001b[1;32m    172\u001b[0m filtered \u001b[38;5;241m=\u001b[39m {}\n\u001b[1;32m    173\u001b[0m \u001b[38;5;28;01mfor\u001b[39;00m k \u001b[38;5;129;01min\u001b[39;00m style:  \u001b[38;5;66;03m# don't trigger RcParams.__getitem__('backend')\u001b[39;00m\n",
      "\u001b[0;31mOSError\u001b[0m: 'science' is not a valid package style, path of style file, URL of style file, or library style name (library styles are listed in `style.available`)"
     ]
    }
   ],
   "source": [
    "import pandas as pd\n",
    "import numpy as np\n",
    "from sklearn.metrics import roc_curve, auc\n",
    "import matplotlib.pyplot as plt\n",
    "\n",
    "# 读取 Excel 文件\n",
    "auc_results_path = \"../../results/Cls/cls_label_ml.xlsx\"  # 替换为你的实际文件路径\n",
    "df = pd.read_excel(auc_results_path, header=None)\n",
    "\n",
    "# 将 AUC 值读取到字典\n",
    "auc_dict = dict(zip(df.iloc[0, 1:], df.iloc[2, 1:]))  # 第0行是模型名，第2行是AUC值\n",
    "# 输出字典\n",
    "cls_prob_df = pd.read_excel('../../results/cls_pred_results/cls_y_pred_proba.xlsx')\n",
    "# 提取真实标签和预测概率\n",
    "y_test = cls_prob_df['y_test']\n",
    "cls_prob_df = cls_prob_df.drop(columns=['y_test'])\n",
    "models = cls_prob_df.columns.to_list()\n",
    "\n",
    "# 绘制多个模型的ROC曲线\n",
    "with plt.style.context(['science', 'scatter']):\n",
    "    plt.figure(figsize=(8, 8))  # 增加图像尺寸\n",
    "    \n",
    "    for model in models:\n",
    "        y_pred_proba = cls_prob_df[model]\n",
    "        fpr, tpr, _ = roc_curve(y_test, y_pred_proba)\n",
    "        roc_auc = auc_dict[model]\n",
    "        plt.plot(fpr, tpr, lw=2, label=f'{model} (AUC = {round(roc_auc, 2)})')\n",
    "    \n",
    "    plt.plot([0, 1], [0, 1], color='navy', lw=2, linestyle='--')\n",
    "    plt.xlim([0.0, 1.0])\n",
    "    plt.ylim([0.0, 1.05])\n",
    "    plt.xlabel('False Positive Rate', fontdict={'color': 'black', 'font': 'Times New Roman'})\n",
    "    plt.ylabel('True Positive Rate', fontdict={'color': 'black', 'font': 'Times New Roman'})\n",
    "    plt.title('Receiver Operating Characteristic (ROC) Curve', fontdict={'color': 'black', 'font': 'Times New Roman'})\n",
    "    plt.legend(loc=\"lower right\")\n",
    "    plt.grid(True)\n",
    "    plt.tight_layout()\n",
    "    plt.savefig('./ROC_curve_verification.pdf', dpi=1000, bbox_inches='tight')\n",
    "    plt.close()"
   ]
  }
 ],
 "metadata": {
  "kernelspec": {
   "display_name": "Python 3",
   "language": "python",
   "name": "python3"
  },
  "language_info": {
   "codemirror_mode": {
    "name": "ipython",
    "version": 3
   },
   "file_extension": ".py",
   "mimetype": "text/x-python",
   "name": "python",
   "nbconvert_exporter": "python",
   "pygments_lexer": "ipython3",
   "version": "3.8.17"
  }
 },
 "nbformat": 4,
 "nbformat_minor": 2
}
