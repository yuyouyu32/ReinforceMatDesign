{
 "cells": [
  {
   "cell_type": "code",
   "execution_count": 1,
   "metadata": {},
   "outputs": [],
   "source": [
    "# 把ipynb的运行根目录放在../src下\n",
    "import os\n",
    "import sys\n",
    "import pandas as pd\n",
    "import numpy as np\n",
    "import json\n",
    "sys.path.append(os.path.abspath('..'))\n",
    "from config import *\n",
    "import matplotlib.pyplot as plt\n",
    "import matplotlib.colors as mcolors\n",
    "import scienceplots\n",
    "\n",
    "from sklearn.metrics import r2_score, mean_squared_error, mean_absolute_error\n"
   ]
  },
  {
   "cell_type": "code",
   "execution_count": 2,
   "metadata": {},
   "outputs": [],
   "source": [
    "def draw_r2_mape(y_test, y_pred, target_name, mape, ave_r2):\n",
    "    with plt.style.context(['science', 'scatter']):\n",
    "        # Create a scatter plot with a color map based on MAPE values\n",
    "        colors = mcolors.Normalize(vmin=np.min(mape), vmax=min(np.max(mape), 100))\n",
    "        plt.scatter(y_test, y_pred, c=mape, cmap='viridis', alpha=0.7, norm=colors, label=f\"${target_name} Pred$\")\n",
    "\n",
    "        # Add a color bar to indicate the range of MAPE values\n",
    "        plt.colorbar(label='MAPE(\\%)')\n",
    "\n",
    "        \n",
    "        # Plot the 45-degree line\n",
    "        min_value = min(y_test.min(), y_pred.min()) - y_test.min()/10\n",
    "        max_value = max(y_test.max(), y_pred.max()) + y_test.min()/10\n",
    "        plt.fill_between([min_value, max_value], [min_value - y_test.min()/10, max_value - y_test.min()/10], [min_value + y_test.min()/10, max_value + y_test.min()/10], color='dodgerblue', alpha=0.2, lw=0)\n",
    "        plt.plot([min_value, max_value], \n",
    "                [min_value, max_value], \n",
    "                'k--')\n",
    "\n",
    "        # Labels and title\n",
    "        # plt.legend()\n",
    "        plt.xlabel(f'{target_name} True Values', fontdict={'color': 'black', 'font': 'Times New Roman'})\n",
    "        plt.ylabel(f'{target_name} Predicted Values', fontdict={'color': 'black', 'font': 'Times New Roman'})\n",
    "        textstr = f'$R^2 = {ave_r2:.2f}$'\n",
    "        plt.text(0.6, 0.15, textstr, transform=plt.gca().transAxes, fontsize=9, verticalalignment='top', fontdict={'color': 'black', 'font': 'Times New Roman'})\n",
    "        plt.savefig(f'./{target_name}_scatter_verification.pdf', dpi=1000, bbox_inches='tight')\n",
    "        plt.close()"
   ]
  },
  {
   "cell_type": "code",
   "execution_count": 4,
   "metadata": {},
   "outputs": [
    {
     "name": "stdout",
     "output_type": "stream",
     "text": [
      "Processing Modulus (GPa)\n",
      "Modulus (GPa) R2: 0.93, MAPE: 8.71, MSE: 198.66\n",
      "Processing Tx(K)\n",
      "Tx(K) R2: 0.99, MAPE: 1.77, MSE: 454.02\n",
      "Processing Tl(K)\n",
      "Tl(K) R2: 0.99, MAPE: 1.44, MSE: 536.60\n",
      "Processing Ε(%)\n",
      "Ε(%) R2: 0.85, MAPE: 131.13, MSE: 24.07\n",
      "Processing Tg(K)\n",
      "Tg(K) R2: 0.97, MAPE: 2.57, MSE: 940.52\n",
      "Processing Dmax(mm)\n",
      "Dmax(mm) R2: 0.80, MAPE: 61.76, MSE: 5.92\n",
      "Processing yield(MPa)\n",
      "yield(MPa) R2: 0.84, MAPE: 8.42, MSE: 40487.85\n"
     ]
    }
   ],
   "source": [
    "y_pred_results_path = '../../results/pred_results'\n",
    "all_results_file = os.listdir(y_pred_results_path)\n",
    "for file in all_results_file:\n",
    "    target_name = file.split('.')[0]\n",
    "    print(f\"Processing {target_name}\")\n",
    "    data = pd.read_excel(os.path.join(y_pred_results_path, file))\n",
    "    y_pred = np.array(data[f\"y_pred\"])\n",
    "    y_test = np.array(data[f\"y_test\"])\n",
    "    ave_r2 = r2_score(y_test, y_pred)\n",
    "    y_test = np.where(y_test == 0, 1, y_test)\n",
    "    mape = np.abs((y_test - np.abs(y_pred)) / (y_test)) * 100\n",
    "    ave_mape = np.mean(mape)\n",
    "    ave_mse = mean_squared_error(y_test, y_pred)\n",
    "    print(f\"{target_name} R2: {ave_r2:.2f}, MAPE: {ave_mape:.2f}, MSE: {ave_mse:.2f}\")\n",
    "    if target_name == 'Ε(%)':\n",
    "        target_name = 'E(\\%)'\n",
    "    draw_r2_mape(y_test, y_pred, target_name, mape, ave_r2)\n"
   ]
  }
 ],
 "metadata": {
  "kernelspec": {
   "display_name": "base",
   "language": "python",
   "name": "python3"
  },
  "language_info": {
   "codemirror_mode": {
    "name": "ipython",
    "version": 3
   },
   "file_extension": ".py",
   "mimetype": "text/x-python",
   "name": "python",
   "nbconvert_exporter": "python",
   "pygments_lexer": "ipython3",
   "version": "3.11.5"
  }
 },
 "nbformat": 4,
 "nbformat_minor": 2
}
