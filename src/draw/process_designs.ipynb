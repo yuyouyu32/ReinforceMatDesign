{
 "cells": [
  {
   "cell_type": "code",
   "execution_count": null,
   "metadata": {},
   "outputs": [],
   "source": [
    "# 把ipynb的运行根目录放在../src下\n",
    "import os\n",
    "import sys\n",
    "sys.path.append(os.path.abspath('..'))\n",
    "from BMGs import BMGs\n",
    "import pandas as pd\n",
    "from config import *"
   ]
  },
  {
   "cell_type": "markdown",
   "metadata": {},
   "source": [
    "### 插入s到new_BMGs中"
   ]
  },
  {
   "cell_type": "code",
   "execution_count": null,
   "metadata": {},
   "outputs": [],
   "source": [
    "data_path = '../../designs/td3_1500/new_BMGs.xlsx'\n",
    "data = pd.read_excel(data_path)\n",
    "for i in range(0, len(data)):\n",
    "    BMG = BMGs(bmg_s=data.iloc[i]['Chemical composition'])\n",
    "    s = BMG.s\n",
    "    for j in range(0, len(CompositionColumns)):\n",
    "        data.loc[i, CompositionColumns[j]] = s[j]\n",
    "data.to_excel(data_path, index=False)"
   ]
  },
  {
   "cell_type": "markdown",
   "metadata": {},
   "source": [
    "### 统计元素出现次数"
   ]
  },
  {
   "cell_type": "code",
   "execution_count": null,
   "metadata": {},
   "outputs": [],
   "source": [
    "from pyecharts.charts import Pie\n",
    "from pyecharts import options as opts\n",
    "from pyecharts.globals import ThemeType\n",
    "\n",
    "def draw_pie_chart(data, title):\n",
    "    # Convert to the format required by pyecharts\n",
    "    data_pair = [(k, v) for k, v in data.items()]\n",
    "    # sort by v\n",
    "    data_pair = sorted(data_pair, key=lambda x: x[1], reverse=True)\n",
    "    # Create a pie chart with pyecharts\n",
    "    print(data_pair)\n",
    "    pie = (\n",
    "        Pie(init_opts=opts.InitOpts(theme=ThemeType.MACARONS))\n",
    "        .add(\n",
    "            \"\",\n",
    "            data_pair,\n",
    "            radius=[\"30%\", \"70%\"], \n",
    "            center=[\"60%\", \"50%\"],  # Adjust center to move the pie chart\n",
    "            rosetype=\"radius\",  # Use rosetype to create a rose chart\n",
    "        )\n",
    "        .set_global_opts(\n",
    "            # title_opts=opts.TitleOpts(title=title, title_textstyle_opts=opts.TextStyleOpts(font_weight=\"bold\")),\n",
    "            legend_opts=opts.LegendOpts(\n",
    "                orient=\"vertical\", \n",
    "                pos_top=\"15%\", \n",
    "                pos_left=\"2%\",\n",
    "                textstyle_opts=opts.TextStyleOpts(font_weight=\"bold\")  # Set legend text to bold\n",
    "            )\n",
    "        )\n",
    "        .set_series_opts(\n",
    "            label_opts=opts.LabelOpts(\n",
    "                formatter=\"{b}: {d}%\",\n",
    "                position=\"outside\",\n",
    "                font_size=10,\n",
    "                is_show=True,\n",
    "                color=\"#000\",\n",
    "                distance=20,  # Adjust the distance from label to pie chart\n",
    "                font_weight=\"bold\"  # Set label text to bold\n",
    "            )\n",
    "        )\n",
    "    )\n",
    "    pie.render(f'{title}.html')\n"
   ]
  },
  {
   "cell_type": "code",
   "execution_count": null,
   "metadata": {},
   "outputs": [],
   "source": [
    "def get_base_matrix_count(data_path):\n",
    "    data = pd.read_excel(data_path)\n",
    "    base_matrix_count = {}\n",
    "    for i in range(0, len(data)):\n",
    "        bmg = BMGs(bmg_s=data.iloc[i]['Chemical composition'])\n",
    "        base_matrix = bmg.get_base_matrix()\n",
    "        if base_matrix in base_matrix_count:\n",
    "            base_matrix_count[base_matrix] += 1\n",
    "        else:\n",
    "            base_matrix_count[base_matrix] = 1\n",
    "    base_matrix_count = dict(sorted(base_matrix_count.items(), key=lambda x: x[1], reverse=True))\n",
    "    return base_matrix_count"
   ]
  },
  {
   "cell_type": "code",
   "execution_count": null,
   "metadata": {},
   "outputs": [],
   "source": [
    "original_base_matrix_count = get_base_matrix_count('../../data/ALL_data_grouped_processed.xlsx')\n",
    "# new_bmgs_base_matrix_count = get_base_matrix_count('../ckpts/ddpg/new_BMGs.xlsx')\n",
    "cls_bmgs_base_matrix_count = get_base_matrix_count('../../data/ALL_data_cls.xlsx')\n",
    "draw_pie_chart(original_base_matrix_count, 'Original BMGs Base Matrix Distribution')\n",
    "print('Original base matrix count:', len(original_base_matrix_count.keys()))\n",
    "draw_pie_chart(cls_bmgs_base_matrix_count, 'Classified BMGs Base Matrix Distribution in Training.')\n",
    "print('Classified BMGs base matrix count:', len(cls_bmgs_base_matrix_count.keys()))"
   ]
  },
  {
   "cell_type": "code",
   "execution_count": null,
   "metadata": {},
   "outputs": [],
   "source": [
    "data_path = '../../ckpts/td3_seed32/new_BMGs.xlsx'\n",
    "train_design_matrix_count = get_base_matrix_count(data_path)\n",
    "draw_pie_chart(train_design_matrix_count, 'Training BMGs Base Matrix Distribution')\n",
    "print('Training base matrix count:', len(train_design_matrix_count.keys()))"
   ]
  },
  {
   "cell_type": "markdown",
   "metadata": {},
   "source": [
    "### 目标性能绘制"
   ]
  },
  {
   "cell_type": "code",
   "execution_count": null,
   "metadata": {},
   "outputs": [],
   "source": [
    "import pandas as pd\n",
    "import matplotlib.pyplot as plt\n",
    "import seaborn as sns\n",
    "\n",
    "def plot_scatter(df1: pd.DataFrame, df2: pd.DataFrame, x_col: str, y_col: str, title: str):\n",
    "\n",
    "    # Drop rows where x_col or y_col is None\n",
    "    df1 = df1.dropna(subset=[x_col, y_col])\n",
    "    df2 = df2.dropna(subset=[x_col, y_col])\n",
    "    print(len(df1), len(df2))\n",
    "    \n",
    "    # Set the style of the plot\n",
    "    sns.set(style=\"whitegrid\")\n",
    "    \n",
    "    # Create a scatter plot\n",
    "    plt.figure(figsize=(12, 8))\n",
    "    plt.scatter(df1[x_col], df1[y_col], color='blue', label='Existing BMGs', alpha=0.6, edgecolor='w', s=100)\n",
    "    plt.scatter(df2[x_col], df2[y_col], color='red', label='Newly Designed BMGs', alpha=0.6, edgecolor='w', s=100)\n",
    "    \n",
    "    # Add title and labels\n",
    "    plt.title(title, fontsize=16, fontweight='bold')\n",
    "    plt.xlabel(x_col, fontsize=14, fontweight='bold')\n",
    "    plt.ylabel(y_col, fontsize=14, fontweight='bold')\n",
    "    plt.legend(fontsize=12)\n",
    "    \n",
    "    # Add a grid and adjust the layout\n",
    "    plt.grid(False)\n",
    "    plt.tight_layout()\n",
    "    \n",
    "    # Show the plot\n",
    "    plt.savefig(f'{title}.png', dpi=500)\n",
    "    plt.close()\n"
   ]
  },
  {
   "cell_type": "code",
   "execution_count": null,
   "metadata": {},
   "outputs": [],
   "source": [
    "data_path = '../../ckpts/td3_seed32/new_BMGs.xlsx'\n",
    "df1 = pd.read_excel('/data/home/yeyongyu/SHU/ReinforceMatDesign/data/ALL_data_grouped_processed.xlsx')\n",
    "df2 = pd.read_excel(data_path)\n",
    "plot_scatter(df1, df2, 'yield(MPa)', 'Ε(%)', 'Yield(MPa) vs. Ε(%) Scatter Plot')"
   ]
  },
  {
   "cell_type": "markdown",
   "metadata": {},
   "source": [
    "### Zr-基设计分析"
   ]
  },
  {
   "cell_type": "code",
   "execution_count": null,
   "metadata": {},
   "outputs": [],
   "source": [
    "def get_optional_matrix_count(data_path, optional_elements):\n",
    "    # Load the data from the Excel file\n",
    "    data = pd.read_excel(data_path)\n",
    "\n",
    "    # Initialize a statistics to store the counts\n",
    "    optional_matrix_count = {}\n",
    "\n",
    "    # Iterate over each element in the list of optional elements\n",
    "    for element in optional_elements:\n",
    "        if element in data.columns:  # Check if the column exists in the DataFrame\n",
    "            # Count the non-zero values in the column\n",
    "            count = (data[element] != 0).sum()\n",
    "            optional_matrix_count[element] = count\n",
    "        else:\n",
    "            # If the column does not exist, set the count to None or 0\n",
    "            optional_matrix_count[element] = None  # or use 0 as a default value\n",
    "\n",
    "    # Return the statistics with the count of non-zero values\n",
    "    return optional_matrix_count"
   ]
  },
  {
   "cell_type": "code",
   "execution_count": null,
   "metadata": {},
   "outputs": [],
   "source": [
    "optional_matrix_count = get_optional_matrix_count('../../designs/td3_1500/new_BMGs.xlsx', list(ExploreBases[0][1].keys()))   \n",
    "draw_pie_chart(optional_matrix_count, 'Zr Base BMGs Optional Matrix Distribution in Testing.')"
   ]
  },
  {
   "cell_type": "code",
   "execution_count": null,
   "metadata": {},
   "outputs": [],
   "source": [
    "df1 = pd.read_excel('/data/home/yeyongyu/SHU/ReinforceMatDesign/data/ALL_data_grouped_processed.xlsx')\n",
    "df3 = pd.read_excel('/data/home/yeyongyu/SHU/ReinforceMatDesign/designs/td3_1500/new_BMGs.xlsx')\n",
    "element = 'Gd'\n",
    "df1 = df1[df1[element] != 0]\n",
    "df3 = df3[df3[element] != 0]\n",
    "plot_scatter(df1, df3, element, 'yield(MPa)', f'Yield(MPa) Change with {element} Composition')\n",
    "plot_scatter(df1, df3, element, 'Ε(%)', f'E(%) Change with {element} Composition')"
   ]
  },
  {
   "cell_type": "code",
   "execution_count": null,
   "metadata": {},
   "outputs": [],
   "source": [
    "import matplotlib.pyplot as plt\n",
    "import pandas as pd\n",
    "\n",
    "def plot_scatter_colorbar(df: pd.DataFrame, x_col: str, y_col: str, color_bar_col: str, title: str, colormap: str = 'plasma_r'):\n",
    "    \"\"\"\n",
    "    绘制散点图，并使用 color_bar_col 的值绘制色条。\n",
    "    \n",
    "    参数:\n",
    "    df: pandas.DataFrame - 数据框\n",
    "    x_col: str - x轴数据列名\n",
    "    y_col: str - y轴数据列名\n",
    "    color_bar_col: str - 用于色条的数据列名\n",
    "    title: str - 图表标题\n",
    "    colormap: str - 色条的颜色映射\n",
    "    \"\"\"\n",
    "    plt.figure(figsize=(10, 6))\n",
    "    scatter = plt.scatter(df[x_col], df[y_col], c=df[color_bar_col], cmap=colormap)\n",
    "    colorbar = plt.colorbar(scatter)\n",
    "    colorbar.set_label(color_bar_col)\n",
    "    plt.xlabel(x_col)\n",
    "    plt.ylabel(y_col)\n",
    "    plt.title(title)\n",
    "    plt.grid(False)\n",
    "    plt.savefig(f'{title}.png', dpi=500)\n",
    "    plt.close()\n"
   ]
  },
  {
   "cell_type": "code",
   "execution_count": null,
   "metadata": {},
   "outputs": [],
   "source": [
    "df = pd.read_excel('/data/home/yeyongyu/SHU/ReinforceMatDesign/designs/td3_1500/new_BMGs.xlsx')\n",
    "df = df[df[element] != 0]\n",
    "plot_scatter_colorbar(df, 'yield(MPa)', 'Ε(%)', element, f'Yield(MPa) vs. Ε(%) Scatter Plot with {element} Composition')"
   ]
  },
  {
   "cell_type": "code",
   "execution_count": null,
   "metadata": {},
   "outputs": [],
   "source": [
    "# 计算df中Ag 0-3， 3-6, 6-9...的yield(MPa)和Ε(%)的均值和标准差，还有数量\n",
    "def get_stats(df: pd.DataFrame, element: str, x_col: str, y_col: str):\n",
    "    stats = {}\n",
    "    sampe_data = []\n",
    "    for i in range(0, 5):\n",
    "        lower_bound = i\n",
    "        upper_bound = (i + 1)\n",
    "        key = f'{lower_bound}-{upper_bound}'\n",
    "        subset = df[(df[element] >= lower_bound) & (df[element] < upper_bound)]\n",
    "        # 从每一个subset中采样20条数据\n",
    "        subset_sample = subset.sample(n=min(20, len(subset)), random_state=42)\n",
    "        sampe_data.append(subset_sample)\n",
    "        stats[key] = {\n",
    "            'count': len(subset),\n",
    "            'mean_yield': subset[x_col].mean(),\n",
    "            'std_yield': subset[x_col].std(),\n",
    "            'mean_Ε': subset[y_col].mean(),\n",
    "            'std_Ε': subset[y_col].std()\n",
    "        }\n",
    "    return stats, sampe_data\n",
    "\n",
    "stats, sample_data = get_stats(df, element, 'yield(MPa)', 'Ε(%)')\n",
    "sample_data = pd.concat(sample_data)\n",
    "print(stats)"
   ]
  },
  {
   "cell_type": "code",
   "execution_count": null,
   "metadata": {},
   "outputs": [],
   "source": [
    "\n",
    "original_df = pd.read_excel('/data/home/yeyongyu/SHU/ReinforceMatDesign/data/ALL_data_grouped_processed.xlsx')\n",
    "# sample_data = pd.read_excel('/data/home/yeyongyu/SHU/ReinforceMatDesign/designs/td3_1500/new_BMGs.xlsx')\n",
    "import numpy as np\n",
    "for index, row in sample_data.iterrows():\n",
    "    # 计算差值\n",
    "    diff = row[CompositionColumns].to_numpy() - original_df[CompositionColumns].to_numpy()\n",
    "    diff = np.sum(np.abs(diff), axis=1)\n",
    "    # 找到最小的3个index\n",
    "    similar_index = np.argsort(diff)[:3]\n",
    "    # 将这3个index根据target_columns的列名和值 还有BMGs列的值拼接成一个字符串\n",
    "    similar_BMGs = [original_df.loc[i, 'BMGs'] + ' ' + ' '.join([f'{column}:{original_df.loc[i, column]}' for column in TargetColumns]) for i in similar_index]\n",
    "    sample_data.loc[index, 'similar_index'] = '\\n'.join(similar_BMGs)"
   ]
  },
  {
   "cell_type": "code",
   "execution_count": null,
   "metadata": {},
   "outputs": [],
   "source": [
    "sample_data.to_excel(f'sample_data_{element}.xlsx', index=False)"
   ]
  },
  {
   "cell_type": "code",
   "execution_count": null,
   "metadata": {},
   "outputs": [],
   "source": [
    "\n",
    "import matplotlib.pyplot as plt\n",
    "import pandas as pd\n",
    "\n",
    "def plot_element_influence(statistics, name):\n",
    "    \"\"\"\n",
    "    根据提供的字典数据绘制图表。\n",
    "    \n",
    "    参数:\n",
    "    statistics: dict - 输入的数据字典\n",
    "    \"\"\"\n",
    "    # 将字典转换为DataFrame\n",
    "    data = {\n",
    "        'Range': list(statistics.keys()),\n",
    "        'Count': [statistics[key]['count'] for key in statistics.keys()],\n",
    "        'Mean Yield': [statistics[key]['mean_yield'] for key in statistics.keys()],\n",
    "        'Std Yield': [statistics[key]['std_yield'] for key in statistics.keys()],\n",
    "        'Mean Ε': [statistics[key]['mean_Ε'] for key in statistics.keys()],\n",
    "        'Std Ε': [statistics[key]['std_Ε'] for key in statistics.keys()]\n",
    "    }\n",
    "\n",
    "    df = pd.DataFrame(data)\n",
    "\n",
    "    # 创建图表\n",
    "    fig, ax1 = plt.subplots(figsize=(10, 6))\n",
    "\n",
    "    # 绘制mean_yield及其标准差\n",
    "    bar_width = 0.4\n",
    "    bars = ax1.bar(df['Range'], df['Mean Yield'], yerr=df['Std Yield'], label='Mean Yield', color='#1f77b4', capsize=5, width=bar_width, alpha=0.7, edgecolor='grey')\n",
    "\n",
    "    # 设置Y轴标签\n",
    "    ax1.set_xlabel('Range')\n",
    "    ax1.set_ylabel('Mean Yield', color='#1f77b4')\n",
    "    ax1.tick_params(axis='y', labelcolor='#1f77b4')\n",
    "\n",
    "    # 创建第二个Y轴并绘制mean_Ε及其标准差\n",
    "    ax2 = ax1.twinx()\n",
    "    ax2.plot(df['Range'], df['Mean Ε'], label='Mean Ε', color='#ff7f0e', marker='o', linestyle='-', linewidth=2, markersize=6)\n",
    "    ax2.errorbar(df['Range'], df['Mean Ε'], yerr=df['Std Ε'], fmt='o', color='#ff7f0e', capsize=5)\n",
    "\n",
    "    # 设置第二个Y轴标签\n",
    "    ax2.set_ylabel('Mean Ε', color='#ff7f0e')\n",
    "    ax2.tick_params(axis='y', labelcolor='#ff7f0e')\n",
    "\n",
    "    # 添加标题\n",
    "    plt.title('Mean Yield and Mean Ε with Standard Deviations')\n",
    "    plt.grid(False)\n",
    "\n",
    "    # 调整图例\n",
    "    fig.legend(loc='upper left', bbox_to_anchor=(0.1,0.9))\n",
    "\n",
    "    # 显示图表\n",
    "    plt.savefig(f\"{name}.png\", dpi=500)\n",
    "    plt.close()"
   ]
  },
  {
   "cell_type": "code",
   "execution_count": null,
   "metadata": {},
   "outputs": [],
   "source": [
    "plot_element_influence(stats, f'Mean Yield and Mean Ε with Standard Deviations {element}.png')"
   ]
  }
 ],
 "metadata": {
  "kernelspec": {
   "display_name": "Python 3",
   "language": "python",
   "name": "python3"
  },
  "language_info": {
   "codemirror_mode": {
    "name": "ipython",
    "version": 3
   },
   "file_extension": ".py",
   "mimetype": "text/x-python",
   "name": "python",
   "nbconvert_exporter": "python",
   "pygments_lexer": "ipython3",
   "version": "3.8.17"
  }
 },
 "nbformat": 4,
 "nbformat_minor": 2
}
