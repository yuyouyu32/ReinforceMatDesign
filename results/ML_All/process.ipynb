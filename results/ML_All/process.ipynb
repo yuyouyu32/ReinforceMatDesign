{
 "cells": [
  {
   "cell_type": "code",
   "execution_count": 3,
   "metadata": {},
   "outputs": [],
   "source": [
    "import pandas as pd\n",
    "import os\n",
    "\n",
    "# Directory where .xlsx files are stored\n",
    "directory = './'  # Change this to the actual directory path\n",
    "\n",
    "# Initialize a dictionary to store data with filenames as keys\n",
    "data_frames = {}\n",
    "models = ['Ridge', 'Lasso', 'ElasticNet', 'SVR', 'RandomForestRegressor', \n",
    "          'GradientBoostingRegressor', 'AdaBoostRegressor', \n",
    "          'KNeighborsRegressor', 'XGBRegressor', 'edRVFL']  # Extend as necessary\n",
    "metrics = ['rmse', 'mape', 'r2']\n",
    "\n",
    "# Loop through each file in the directory\n",
    "for file in os.listdir(directory):\n",
    "    if file.endswith('.xlsx'):\n",
    "        file_path = os.path.join(directory, file)\n",
    "        \n",
    "        # Load the Excel file\n",
    "        df = pd.read_excel(file_path, header=0, index_col=0)  # First row as header, first column as index\n",
    "        \n",
    "        # Use the filename (without .xlsx extension) as the index name for this data\n",
    "        index_name = os.path.splitext(file)[0]\n",
    "        \n",
    "        # Initialize a dictionary to store metrics for this file\n",
    "        formatted_data = {}\n",
    "        \n",
    "        for model in models:\n",
    "            for metric in metrics:\n",
    "                # Construct a custom column name (e.g., SVR_RMSE)\n",
    "                column_name = f\"{model}_{metric.upper()}\"\n",
    "                \n",
    "                # Fetch the metric value directly from the DataFrame by row (metric) and column (model)\n",
    "                formatted_data[column_name] = df.at[metric, model]\n",
    "        \n",
    "        # Create a DataFrame for this file with a single row, using filename as index\n",
    "        data_frames[index_name] = pd.DataFrame(formatted_data, index=[index_name])\n",
    "\n",
    "# Concatenate all individual DataFrames into the final DataFrame\n",
    "final_df = pd.concat(data_frames.values())\n",
    "\n",
    "# Display the final DataFrame\n",
    "final_df.to_excel('results.xlsx')\n"
   ]
  }
 ],
 "metadata": {
  "kernelspec": {
   "display_name": "Python 3",
   "language": "python",
   "name": "python3"
  },
  "language_info": {
   "codemirror_mode": {
    "name": "ipython",
    "version": 3
   },
   "file_extension": ".py",
   "mimetype": "text/x-python",
   "name": "python",
   "nbconvert_exporter": "python",
   "pygments_lexer": "ipython3",
   "version": "3.8.17"
  }
 },
 "nbformat": 4,
 "nbformat_minor": 2
}
